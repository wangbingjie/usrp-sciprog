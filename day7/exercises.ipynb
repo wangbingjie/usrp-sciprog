{
 "metadata": {
  "name": "",
  "signature": "sha256:c8533e099c25c80851da259386464340f1b5496212375ecde340fc21492e61e1"
 },
 "nbformat": 3,
 "nbformat_minor": 0,
 "worksheets": [
  {
   "cells": [
    {
     "cell_type": "heading",
     "level": 1,
     "metadata": {},
     "source": [
      "Exercises"
     ]
    },
    {
     "cell_type": "heading",
     "level": 2,
     "metadata": {},
     "source": [
      "1. Unweighted Moments"
     ]
    },
    {
     "cell_type": "markdown",
     "metadata": {},
     "source": [
      "Load the example image, and create a pair of 2-d (`x`, `y`) arrays (with the same shape as the image) that hold the coordinate values for every point in the data image.  The [numpy.meshgrid](http://docs.scipy.org/doc/numpy/reference/generated/numpy.meshgrid.html) function will do almost all the work for you; you just need to figure out how to call it (after loading the image, of course)."
     ]
    },
    {
     "cell_type": "code",
     "collapsed": false,
     "input": [
      "import astropy.io.fits\n",
      "import numpy\n",
      "from matplotlib import pyplot\n",
      "%matplotlib inline\n",
      "\n",
      "fits = astropy.io.fits.open(\"../data/hsc-image-small.fits\")\n",
      "image = fits[0].data\n",
      "detections = fits[2].data\n",
      "\n",
      "def makeCoordinateArrays(shape):\n",
      "    \"\"\"Return 2-d coordinate arrays for an image array with the given shape.\"\"\"\n",
      "    x1d = numpy.arange(shape[1])\n",
      "    y1d = numpy.arange(shape[0])\n",
      "    x2d, y2d = numpy.meshgrid(x1d, y1d)\n",
      "    return x2d, y2d\n",
      "\n",
      "x, y = makeCoordinateArrays(image.shape)\n"
     ],
     "language": "python",
     "metadata": {},
     "outputs": [],
     "prompt_number": 1
    },
    {
     "cell_type": "markdown",
     "metadata": {},
     "source": [
      "Write a function that computes the unweighted zeroth, first, and second moments of a source, given a data image, a mask image that indicates which pixels \"belong\" to the object, and coordinate arrays of the type you just created.\n",
      "\n",
      "A few hints:\n",
      " - Remember that you can multiply NumPy arrays together without explicitly looping over them, returning a new NumPy array.\n",
      " - If your function returns multiple values, just separate them with commas in the return statement: \"`return a, b, c`\".  Or, you can group them if you like: \"`return a, (b, c)`\"."
     ]
    },
    {
     "cell_type": "code",
     "collapsed": false,
     "input": [
      "def computeMoments(image, mask, x, y):\n",
      "    \"\"\"Compute the zeroth, first, and second moments of an image,\n",
      "    using only pixels that are True in a mask.\n",
      "    \"\"\"\n",
      "    m0 = image[mask].sum()\n",
      "    mx = (x[mask] * image[mask]).sum() / m0\n",
      "    my = (y[mask] * image[mask]).sum() / m0\n",
      "    mxx = ((x[mask] - mx)**2 * image[mask]).sum() / m0\n",
      "    myy = ((y[mask] - my)**2 * image[mask]).sum() / m0\n",
      "    mxy = ((x[mask] - mx) * (y[mask] - my) * image[mask]).sum() / m0\n",
      "    return m0, (mx, my), (mxx, myy, mxy)"
     ],
     "language": "python",
     "metadata": {},
     "outputs": [],
     "prompt_number": 2
    },
    {
     "cell_type": "markdown",
     "metadata": {},
     "source": [
      "Call this function on all of the sources in the example image, and print the results."
     ]
    },
    {
     "cell_type": "code",
     "collapsed": false,
     "input": [
      "print(computeMoments(image, detections==1, x, y))\n",
      "print(computeMoments(image, detections==5, x, y))\n",
      "print(computeMoments(image, detections==11, x, y))"
     ],
     "language": "python",
     "metadata": {},
     "outputs": [
      {
       "output_type": "stream",
       "stream": "stdout",
       "text": [
        "(51.959019, (37.42412325354848, 22.449070189764043), (55.32724738565804, 47.526253913043782, 19.003243885257096))\n",
        "(4098.8882, (144.7469567293208, 125.74995645937969), (54.911963694992757, 157.00972356253789, 53.114109652009112))\n",
        "(45.058762, (86.236147807133719, 183.30166818204751), (18.463536635980212, 63.285121132377924, 12.196597241431743))\n"
       ]
      }
     ],
     "prompt_number": 3
    },
    {
     "cell_type": "heading",
     "level": 2,
     "metadata": {},
     "source": [
      "2. Gaussian Weight Functions"
     ]
    },
    {
     "cell_type": "markdown",
     "metadata": {},
     "source": [
      "Write a function that takes `x` and `y` arrays and first and second moments, and returns an image of an elliptical Gaussian function evaluated at those positions.  Here's the formula for a Gaussian, given those moments:\n",
      "\n",
      "$$w(x,y) = e^{-\\frac{1}{2}z^T C^{-1} z} = e^{-\\frac{1}{2}s}$$\n",
      "\n",
      "$$ z = \\left[\\begin{array}{ c }\n",
      "     x - m_x \\\\\n",
      "     y - m_y\n",
      "   \\end{array}\\right]$$\n",
      "\n",
      "$$ C = \\left[\\begin{array}{ c c }\n",
      "     m_{xx} & m_{xy} \\\\\n",
      "     m_{xy} & m_{yy}\n",
      "   \\end{array}\\right]$$\n",
      "   \n",
      "$$ s = (C^{-1})_{xx} z_x^2 + (C^{-1})_{yy} z_y^2 + 2(C^{-1})_{xy} z_x z_y $$\n",
      "\n",
      "Obviously, you'll need to do a little matrix algebra to code this up - you can either do that directly in Python with [numpy.matrix](http://docs.scipy.org/doc/numpy/reference/generated/numpy.matrix.html), or do some algebra yourself.\n",
      "\n",
      "You'll note that I haven't included the standard Gaussian normalization factor - instead, normalize the result to make sure it sums to one before you return it."
     ]
    },
    {
     "cell_type": "code",
     "collapsed": false,
     "input": [
      "def drawGaussian(x, y, mx, my, mxx, myy, mxy):\n",
      "    C = numpy.array([[mxx, mxy], [mxy, myy]], dtype=float)\n",
      "    zx = x - mx\n",
      "    zy = y - my\n",
      "    C_inv = numpy.linalg.inv(C)   # or C.I if C is a numpy.matrix\n",
      "    s = C_inv[0,0]*zx**2 + C_inv[1,1]*zy**2 + 2*(C_inv[0,1]*zx*zy)\n",
      "    result = numpy.exp(-0.5*s)\n",
      "    result /= result.sum()   # or result = result / result.sum()\n",
      "    return result\n",
      "\n",
      "pyplot.imshow(drawGaussian(x, y, mx=60, my=120, mxx=150, myy=270, mxy=45),\n",
      "              origin='lower', interpolation='nearest')"
     ],
     "language": "python",
     "metadata": {},
     "outputs": [
      {
       "metadata": {},
       "output_type": "pyout",
       "prompt_number": 4,
       "text": [
        "<matplotlib.image.AxesImage at 0x7fd63972ef90>"
       ]
      },
      {
       "metadata": {},
       "output_type": "display_data",
       "png": "[encoded data removed]",
       "text": [
        "<matplotlib.figure.Figure at 0x7fd6397c7d10>"
       ]
      }
     ],
     "prompt_number": 4
    },
    {
     "cell_type": "heading",
     "level": 2,
     "metadata": {},
     "source": [
      "3. Weighted Moments"
     ]
    },
    {
     "cell_type": "markdown",
     "metadata": {},
     "source": [
      "Modify your moments function so it takes a weight image instead of a mask image.  Make sure it still works if the weight image is just a mask image (even if it's less efficient) - a mask image is, after all, just a special case of a weight image."
     ]
    },
    {
     "cell_type": "code",
     "collapsed": false,
     "input": [
      "def computeWeightedMoments(image, weight, x, y):\n",
      "    \"\"\"Compute the zeroth, first, and second weighted moments of an image.\n",
      "    \"\"\"\n",
      "    wi = weight * image\n",
      "    m0 = wi.sum()\n",
      "    mx = (x * wi).sum() / m0\n",
      "    my = (y * wi).sum() / m0\n",
      "    mxx = ((x - mx)**2 * wi).sum() / m0\n",
      "    myy = ((y - my)**2 * wi).sum() / m0\n",
      "    mxy = ((x - mx) * (y - my) * wi).sum() / m0\n",
      "    return m0, (mx, my), (mxx, myy, mxy)"
     ],
     "language": "python",
     "metadata": {},
     "outputs": [],
     "prompt_number": 5
    },
    {
     "cell_type": "markdown",
     "metadata": {},
     "source": [
      "Run this function the same way you ran Exercise 1 on the largest source in the image, using the mask image as the weight image."
     ]
    },
    {
     "cell_type": "code",
     "collapsed": false,
     "input": [
      "m0, (mx, my), (mxx, myy, mxy) = computeWeightedMoments(image, detections==5, x, y)\n",
      "computeWeightedMoments(image, detections==5, x, y)"
     ],
     "language": "python",
     "metadata": {},
     "outputs": [
      {
       "metadata": {},
       "output_type": "pyout",
       "prompt_number": 6,
       "text": [
        "(4098.8882,\n",
        " (144.7469567293208, 125.74995645937969),\n",
        " (54.911963694992757, 157.00972356253789, 53.114109652009112))"
       ]
      }
     ],
     "prompt_number": 6
    },
    {
     "cell_type": "code",
     "collapsed": false,
     "input": [
      "computeMoments(image, detections==5, x, y)"
     ],
     "language": "python",
     "metadata": {},
     "outputs": [
      {
       "metadata": {},
       "output_type": "pyout",
       "prompt_number": 7,
       "text": [
        "(4098.8882,\n",
        " (144.7469567293208, 125.74995645937969),\n",
        " (54.911963694992757, 157.00972356253789, 53.114109652009112))"
       ]
      }
     ],
     "prompt_number": 7
    },
    {
     "cell_type": "markdown",
     "metadata": {},
     "source": [
      "Use the moments you just computed and the function from Exercise 2 to create a Gaussian weight image."
     ]
    },
    {
     "cell_type": "code",
     "collapsed": false,
     "input": [
      "weights = drawGaussian(x, y, mx, my, mxx, myy, mxy)\n",
      "#pyplot.imshow(weights, origin='lower', interpolation='nearest')"
     ],
     "language": "python",
     "metadata": {},
     "outputs": [],
     "prompt_number": 8
    },
    {
     "cell_type": "markdown",
     "metadata": {},
     "source": [
      "Run this function on the example data image again, but this time use the Gaussian image as the weights."
     ]
    },
    {
     "cell_type": "code",
     "collapsed": false,
     "input": [
      "m0, (mx, my), (mxx, myy, mxy) = computeWeightedMoments(image, weights, x, y)\n",
      "print(m0, (mx, my), (mxx, myy, mxy))"
     ],
     "language": "python",
     "metadata": {},
     "outputs": [
      {
       "output_type": "stream",
       "stream": "stdout",
       "text": [
        "(4.7934623972299146, (144.80285757295945, 125.73238000431633), (21.975815045458603, 68.45637757396392, 24.318373993576635))\n"
       ]
      }
     ],
     "prompt_number": 9
    },
    {
     "cell_type": "heading",
     "level": 2,
     "metadata": {},
     "source": [
      "4. Biased Measurements"
     ]
    },
    {
     "cell_type": "markdown",
     "metadata": {},
     "source": [
      "Run the weighted moments function using the Gaussian image as *both* the data image and the weight image - let's see if you get back the same moments you used to create the Gaussian image.\n",
      "\n",
      "Surprise!  You don't.  Repeat this a few times, using different moments to create the original Gaussian image.  Can you identify a relationship between the moments you get out, and the moments you put in?  (Hint: it'll involve a nice, round integer number you might have to round off to).\n",
      "\n",
      "Adjust your weighted moments function to include the calibration factor you've found.\n",
      "\n",
      "If you're curious, you can work out this correction algebraically if you replace the sums with integrals, and plug the Gaussian in as both the image and the weight function."
     ]
    },
    {
     "cell_type": "code",
     "collapsed": false,
     "input": [
      "i0, (ix, iy), (ixx, iyy, ixy) = computeWeightedMoments(image, detections==5, x, y)\n",
      "weight = drawGaussian(x, y, ix, iy, ixx, iyy, ixy)\n",
      "f0, (fx, fy), (fxx, fyy, fxy) = computeWeightedMoments(weights, weight, x, y)\n",
      "print i0\n",
      "print f0"
     ],
     "language": "python",
     "metadata": {},
     "outputs": [
      {
       "output_type": "stream",
       "stream": "stdout",
       "text": [
        "4098.89\n",
        "0.00104484902607\n"
       ]
      }
     ],
     "prompt_number": 14
    },
    {
     "cell_type": "code",
     "collapsed": false,
     "input": [],
     "language": "python",
     "metadata": {},
     "outputs": []
    }
   ],
   "metadata": {}
  }
 ]
}