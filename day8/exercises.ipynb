{
 "metadata": {
  "name": "",
  "signature": "sha256:bb9df1fa3a4c98cd261833c6d8e11309844c8a903da45e13de0a308a9ad1b539"
 },
 "nbformat": 3,
 "nbformat_minor": 0,
 "worksheets": [
  {
   "cells": [
    {
     "cell_type": "heading",
     "level": 1,
     "metadata": {},
     "source": [
      "Day 8 Exercises"
     ]
    },
    {
     "cell_type": "code",
     "collapsed": false,
     "input": [
      "import numpy\n",
      "import astropy.io.fits\n",
      "from matplotlib import pyplot\n",
      "%matplotlib inline\n",
      "\n",
      "# you may have to change the path here in your own copy.\n",
      "fits = astropy.io.fits.open(\"../data/hsc-image-small.fits\")\n",
      "image = fits[0].data\n",
      "variance = fits[1].data\n",
      "detections = fits[2].data"
     ],
     "language": "python",
     "metadata": {},
     "outputs": []
    },
    {
     "cell_type": "heading",
     "level": 2,
     "metadata": {},
     "source": [
      "1. Elliptical Gaussians as Models"
     ]
    },
    {
     "cell_type": "markdown",
     "metadata": {},
     "source": [
      "Earlier today we discussed the likelihood for fitting a model $f(n|\\theta)$ to pixel data.  As our model, we'll use the same 2-d Gaussian we used yesterday as a weight function for moments.  Gaussians aren't particularly great models for representing astronomical sources, but they're not terrible, and they have some nice mathematical properties we'll make use of later.\n",
      "\n",
      "In this context, what are the parameters $\\theta$ of the Gaussian model?"
     ]
    },
    {
     "cell_type": "markdown",
     "metadata": {},
     "source": []
    },
    {
     "cell_type": "markdown",
     "metadata": {},
     "source": [
      "Write a new function that computes the negative log likelihood of the image data in `hsc-image-small.fits` for a Gaussian model, given the model parameters (as function arguments) and the variance image in that same file.  This function should call your function that just draws a Gaussian image from yesterday (which you can paste here, or you can put them into a module and `import` that module here).  For now, don't worry about the fact that the image contains more than one source,"
     ]
    },
    {
     "cell_type": "code",
     "collapsed": false,
     "input": [],
     "language": "python",
     "metadata": {},
     "outputs": []
    },
    {
     "cell_type": "markdown",
     "metadata": {},
     "source": [
      "Use your step-function moments measurements from yesterday (or de-biased weighted moments) to make some educated guesses for the best-fit parameters $\\theta$ for the brightest source (`detection==5`).  Evaluate your likelihood at that $\\theta$, then choose one of the parameters (I recommend $m_x$ or $m_y$), modify it slightly in the neighborhood of your initial guess, and plot how the negative log likelihood changes as a function of that parameter (with all the other parameters held fixed at your initial guess)."
     ]
    },
    {
     "cell_type": "code",
     "collapsed": false,
     "input": [],
     "language": "python",
     "metadata": {},
     "outputs": []
    },
    {
     "cell_type": "heading",
     "level": 2,
     "metadata": {},
     "source": [
      "2. Specialized Least-Squares Fitters"
     ]
    },
    {
     "cell_type": "markdown",
     "metadata": {},
     "source": [
      "Instead of writing our own fitting code today to explore the likelihood space, we'll use an existing one: [`scipy.optimize.leastsq`](http://docs.scipy.org/doc/scipy/reference/generated/scipy.optimize.leastsq.html#scipy.optimize.leastsq).  This is a \"greedy optimizer\": it just tries to find the nearest local minimum in the function you give it as fast as it can.  It also requires the function we want to minimize to have a certain form - a sum of squares - which is exactly what we have.  Because it makes that assumption, it's less generally useful, but it's better at solving these sorts of problems than a more general optimizer, like [`scipy.optimize.minimize`](http://docs.scipy.org/doc/scipy/reference/generated/scipy.optimize.minimize.html#scipy.optimize.minimize).\n",
      "\n",
      "Take a look at the documentation for `scipy.optimize.leastsq`, and write a function of the sort it expects as its `func` argument: this function will do most of the work of computing the likelihood of our Gaussian model, and `scipy.optimize.leastsq` will do the rest."
     ]
    },
    {
     "cell_type": "code",
     "collapsed": false,
     "input": [],
     "language": "python",
     "metadata": {},
     "outputs": []
    },
    {
     "cell_type": "markdown",
     "metadata": {},
     "source": [
      "Try running the fitter on this problem, using the guesses you got from moments as the initial parameters.  Check that you get the same result from the fitter if you start it off with slightly different initial parameters."
     ]
    },
    {
     "cell_type": "code",
     "collapsed": false,
     "input": [],
     "language": "python",
     "metadata": {},
     "outputs": []
    },
    {
     "cell_type": "heading",
     "level": 2,
     "metadata": {},
     "source": [
      "3. PSF-Convolved Models"
     ]
    },
    {
     "cell_type": "markdown",
     "metadata": {},
     "source": [
      "The data image we have is related to the true ideal image of the source by convolution with the PSF, so the model parameter we're fitting depend on both the true position and shape of the object *and* the shape of the PSF.  If we want our model parameters to not depend on the PSF the image was observed with, we need our model to represent the true sky, not the data image.\n",
      "\n",
      "To do that, we can do the same thing to the model that the observation process has done to the ideal image: we can convolve it by the PSF.\n",
      "\n",
      "We'll approximate the PSF for this image as another Gaussian with the following moments:"
     ]
    },
    {
     "cell_type": "code",
     "collapsed": false,
     "input": [
      "psf_moments = {\"mx\": 0.0, \"my\": 0.0, \"mxx\": 3.9771548941134864, \"myy\": 3.8040164531742597, \"mxy\": -0.21695453484795038}"
     ],
     "language": "python",
     "metadata": {},
     "outputs": []
    },
    {
     "cell_type": "markdown",
     "metadata": {},
     "source": [
      "One of the nice features of Gaussian functions is that if you convolve a Gaussian with another Gaussian, the result is another Gaussian with $\\mu=\\mu_1 + \\mu_2$ and $C = C_1 + C_2$ - that is, we just add the means and add the covariance matrices.\n",
      "\n",
      "Modify your code to convolve the Gaussian model by the PSF before creating an image of it or computing its likelihood (just copy the functions and rewrite them here)."
     ]
    },
    {
     "cell_type": "code",
     "collapsed": false,
     "input": [],
     "language": "python",
     "metadata": {},
     "outputs": []
    },
    {
     "cell_type": "markdown",
     "metadata": {},
     "source": [
      "If we were to fit this model, how would we expect the best-fit parameters to change?"
     ]
    },
    {
     "cell_type": "markdown",
     "metadata": {},
     "source": []
    },
    {
     "cell_type": "markdown",
     "metadata": {},
     "source": [
      "Taking that into account, how should we go from the moments measurements to initial parameters to start off our PSF-convolved fit?  What could go wrong with this formula?  Think about what the valid ranges for Gaussian parameters are."
     ]
    },
    {
     "cell_type": "markdown",
     "metadata": {},
     "source": []
    },
    {
     "cell_type": "heading",
     "level": 2,
     "metadata": {},
     "source": [
      "4. Put it all together."
     ]
    },
    {
     "cell_type": "markdown",
     "metadata": {},
     "source": [
      "Write a function that takes a data image, a detection mask image, and the PSF moments, and then:\n",
      " - Computes step-function moments to guess an initial parameter.\n",
      " - Attempts to correct the initial parameters to account for the PSF, while making sure the parameters remain valid.\n",
      " - Runs `scipy.optimize.leastsq` with the PSF-convolved galaxy model.\n",
      " - Print a message if the fit failed.\n",
      " - Return the best-fit parameter vector."
     ]
    },
    {
     "cell_type": "code",
     "collapsed": false,
     "input": [],
     "language": "python",
     "metadata": {},
     "outputs": []
    },
    {
     "cell_type": "markdown",
     "metadata": {},
     "source": [
      "Write a function that takes the data image and a parameter vector for your Gaussian model and plots three images:\n",
      " - the original data image\n",
      " - the model image\n",
      " - the difference between them\n",
      " \n",
      "Hint: check out [`this matplotlib example`](http://matplotlib.org/examples/pylab_examples/subplot_demo.html) for how to display multiple images at once."
     ]
    },
    {
     "cell_type": "code",
     "collapsed": false,
     "input": [],
     "language": "python",
     "metadata": {},
     "outputs": []
    },
    {
     "cell_type": "markdown",
     "metadata": {},
     "source": [
      "Use these two new functions to fit and display images for each of the three sources in the image."
     ]
    },
    {
     "cell_type": "code",
     "collapsed": false,
     "input": [],
     "language": "python",
     "metadata": {},
     "outputs": []
    }
   ],
   "metadata": {}
  }
 ]
}